{
 "cells": [
  {
   "cell_type": "code",
   "execution_count": 1,
   "metadata": {},
   "outputs": [
    {
     "name": "stderr",
     "output_type": "stream",
     "text": [
      "2025-02-20 00:14:29.302685: I tensorflow/core/util/port.cc:153] oneDNN custom operations are on. You may see slightly different numerical results due to floating-point round-off errors from different computation orders. To turn them off, set the environment variable `TF_ENABLE_ONEDNN_OPTS=0`.\n",
      "2025-02-20 00:14:29.361082: I tensorflow/core/platform/cpu_feature_guard.cc:210] This TensorFlow binary is optimized to use available CPU instructions in performance-critical operations.\n",
      "To enable the following instructions: SSE4.1 SSE4.2 AVX AVX2 AVX512F AVX512_VNNI FMA, in other operations, rebuild TensorFlow with the appropriate compiler flags.\n"
     ]
    }
   ],
   "source": [
    "import numpy as np\n",
    "import matplotlib.pyplot as plt\n",
    "from keras.datasets import mnist\n",
    "from keras.utils import to_categorical"
   ]
  },
  {
   "cell_type": "code",
   "execution_count": 2,
   "metadata": {},
   "outputs": [],
   "source": [
    "def init_params(nx, nh, ny):\n",
    "    return {\n",
    "        'w1': np.random.normal(0, 0.3, (nx, nh)),\n",
    "        'b1': np.zeros((1, nh)),\n",
    "        'w2': np.random.normal(0, 0.3, (nh, ny)), \n",
    "        'b2': np.zeros((1, ny)),\n",
    "    }"
   ]
  },
  {
   "cell_type": "code",
   "execution_count": 3,
   "metadata": {},
   "outputs": [],
   "source": [
    "def softmax(x):\n",
    "    x_expo = np.exp(x - np.max(x, axis=1, keepdims=True))\n",
    "    return x_expo / np.sum(x_expo, axis=1, keepdims=True)"
   ]
  },
  {
   "cell_type": "code",
   "execution_count": 4,
   "metadata": {},
   "outputs": [],
   "source": [
    "def forward(params, x):\n",
    "    a1 = x\n",
    "    z1 = a1 @ params[\"w1\"] + params[\"b1\"]\n",
    "    a2 = np.tanh(z1)\n",
    "    z2 = a2 @ params[\"w2\"] + params[\"b2\"]\n",
    "    a3 = softmax(z2)\n",
    "    return a3, {\n",
    "        \"z1\": z1, \"a2\": a2, \"z2\": z2, \"a3\": a3\n",
    "    }"
   ]
  },
  {
   "cell_type": "code",
   "execution_count": 5,
   "metadata": {},
   "outputs": [],
   "source": [
    "def loss_accuracy(yhat, y):\n",
    "    m = y.shape[0]\n",
    "    loss = -np.sum(y * np.log(yhat + 1e-10)) / m\n",
    "    accuracy = np.mean(np.argmax(yhat, axis=1) == np.argmax(y, axis=1))\n",
    "    return loss, accuracy"
   ]
  },
  {
   "cell_type": "code",
   "execution_count": 6,
   "metadata": {
    "vscode": {
     "languageId": "latex"
    }
   },
   "outputs": [
    {
     "data": {
      "text/latex": [
       "\n",
       "# backward propagation\n",
       "\n",
       "## we have\n",
       "\n",
       "$$ z_1 = W_1x_1 $$\n",
       "$$ a_1 = \\sigma(z_1) = \\sigma(W_1x_1) = \\tanh(W_1x_1) $$\n",
       "$$ z_2 = W_2a_2 = w_2 \\sigma(w_1x_1)  $$\n",
       "$$ a_2 = \\hat{y} = \\sigma(z_2) = \\sigma(w_2 \\sigma(w_1x_1)) = \\frac{1}{1 + e^{-z_2}} $$\n",
       "$$ J = \\frac{1}{n}\\sum_{i=1}^{n} L(\\hat{y}, y) $$\n",
       "\n",
       "## $$ \\frac{\\partial J}{\\partial w_2} = ? $$\n",
       "\n",
       "$$ \\frac{\\partial J}{\\partial w_2} = \\frac{\\partial J}{\\partial \\hat{y}} \\frac{\\partial \\hat{y}}{\\partial z_2} \\frac{\\partial z_2}{\\partial w_2}  $$\n",
       "$$ \\frac{\\partial J}{\\partial \\hat{y}} = \\frac{\\partial [\\frac{-1}{n} \\sum_{i=1}^{n} (y\\log(\\hat{y}) + (1-y)\\log(1-\\hat{y}))]}{\\partial \\hat{y}} = \\frac{-n}{n}(\\frac{y}{\\hat{y}} - \\frac{1-y}{1-\\hat{y}}) = \\frac{\\hat{y} - y}{\\hat{y}(1-\\hat{y})} $$\n",
       "$$ \\frac{\\partial \\hat{y}}{\\partial z_2} = \\frac{\\partial (\\frac{1}{1+\\exp(-z_2)})}{\\partial z_2} = \\frac{\\exp(-z_2)}{[1+\\exp(-z_2)]²} = \\hat{y}(1-\\hat{y}) $$\n",
       "$$ \\frac{\\partial z_2}{\\partial w_2} = \\frac{\\partial (w_2a_1)}{\\partial w_2} = a_1 $$\n",
       "\n",
       "### so\n",
       "$$ \\frac{\\partial J}{\\partial w_2} = \\frac{\\hat{y} - y}{\\hat{y}(1-\\hat{y})}\\hat{y}(1-\\hat{y})a_1 = (\\hat{y} - y)a_1 $$\n",
       "\n",
       "## $$ \\frac{\\partial J}{\\partial w_1} = ? $$\n",
       "\n",
       "$$ \\frac{\\partial J}{\\partial w_1} = \\frac{\\partial J}{\\partial \\hat{y}} \\frac{\\partial \\hat{y}}{\\partial z_2} \\frac{\\partial z_2}{\\partial a_1} \\frac{\\partial a_1}{\\partial z_1} \\frac{\\partial z_1}{\\partial w_1}  $$\n",
       "$$ \\frac{\\partial J}{\\partial \\hat{y}} = \\frac{\\hat{y} - y}{\\hat{y}(1-\\hat{y})} $$\n",
       "$$ \\frac{\\partial \\hat{y}}{\\partial z_2} = \\hat{y}(1-\\hat{y}) $$\n",
       "$$ \\frac{\\partial z_2}{\\partial a_1} = \\frac{\\partial (w_2a_1)}{\\partial a_1} = w_2 $$\n",
       "$$ \\frac{\\partial a_1}{\\partial z_1} = \\frac{\\partial (\\sigma(z_1))}{\\partial z_1} = 1 - \\tanh²(z_1) = 1 - a_1² $$\n",
       "$$ \\frac{\\partial z_1}{\\partial w_1} = \\frac{\\partial (w_1x_1)}{\\partial w_1} = x_1 $$\n",
       "\n",
       "### so\n",
       "$$ \\frac{\\partial J}{\\partial w_1} = \\frac{\\hat{y} - y}{\\hat{y}(1-\\hat{y})} \\hat{y}(1-\\hat{y}) w_2 (1 - a_1²) x_1 = (\\hat{y} - y) w_2 (1 - a_1²) x_1 $$\n"
      ],
      "text/plain": [
       "<IPython.core.display.Latex object>"
      ]
     },
     "metadata": {},
     "output_type": "display_data"
    }
   ],
   "source": [
    "%%latex\n",
    "\n",
    "# backward propagation\n",
    "\n",
    "## we have\n",
    "\n",
    "$$ z_1 = W_1x_1 $$\n",
    "$$ a_1 = \\sigma(z_1) = \\sigma(W_1x_1) = \\tanh(W_1x_1) $$\n",
    "$$ z_2 = W_2a_2 = w_2 \\sigma(w_1x_1)  $$\n",
    "$$ a_2 = \\hat{y} = \\sigma(z_2) = \\sigma(w_2 \\sigma(w_1x_1)) = \\frac{1}{1 + e^{-z_2}} $$\n",
    "$$ J = \\frac{1}{n}\\sum_{i=1}^{n} L(\\hat{y}, y) $$\n",
    "\n",
    "## $$ \\frac{\\partial J}{\\partial w_2} = ? $$\n",
    "\n",
    "$$ \\frac{\\partial J}{\\partial w_2} = \\frac{\\partial J}{\\partial \\hat{y}} \\frac{\\partial \\hat{y}}{\\partial z_2} \\frac{\\partial z_2}{\\partial w_2}  $$\n",
    "$$ \\frac{\\partial J}{\\partial \\hat{y}} = \\frac{\\partial [\\frac{-1}{n} \\sum_{i=1}^{n} (y\\log(\\hat{y}) + (1-y)\\log(1-\\hat{y}))]}{\\partial \\hat{y}} = \\frac{-n}{n}(\\frac{y}{\\hat{y}} - \\frac{1-y}{1-\\hat{y}}) = \\frac{\\hat{y} - y}{\\hat{y}(1-\\hat{y})} $$\n",
    "$$ \\frac{\\partial \\hat{y}}{\\partial z_2} = \\frac{\\partial (\\frac{1}{1+\\exp(-z_2)})}{\\partial z_2} = \\frac{\\exp(-z_2)}{[1+\\exp(-z_2)]²} = \\hat{y}(1-\\hat{y}) $$\n",
    "$$ \\frac{\\partial z_2}{\\partial w_2} = \\frac{\\partial (w_2a_1)}{\\partial w_2} = a_1 $$\n",
    "\n",
    "### so\n",
    "$$ \\frac{\\partial J}{\\partial w_2} = \\frac{\\hat{y} - y}{\\hat{y}(1-\\hat{y})}\\hat{y}(1-\\hat{y})a_1 = (\\hat{y} - y)a_1 $$\n",
    "\n",
    "## $$ \\frac{\\partial J}{\\partial w_1} = ? $$\n",
    "\n",
    "$$ \\frac{\\partial J}{\\partial w_1} = \\frac{\\partial J}{\\partial \\hat{y}} \\frac{\\partial \\hat{y}}{\\partial z_2} \\frac{\\partial z_2}{\\partial a_1} \\frac{\\partial a_1}{\\partial z_1} \\frac{\\partial z_1}{\\partial w_1}  $$\n",
    "$$ \\frac{\\partial J}{\\partial \\hat{y}} = \\frac{\\hat{y} - y}{\\hat{y}(1-\\hat{y})} $$\n",
    "$$ \\frac{\\partial \\hat{y}}{\\partial z_2} = \\hat{y}(1-\\hat{y}) $$\n",
    "$$ \\frac{\\partial z_2}{\\partial a_1} = \\frac{\\partial (w_2a_1)}{\\partial a_1} = w_2 $$\n",
    "$$ \\frac{\\partial a_1}{\\partial z_1} = \\frac{\\partial (\\sigma(z_1))}{\\partial z_1} = 1 - \\tanh²(z_1) = 1 - a_1² $$\n",
    "$$ \\frac{\\partial z_1}{\\partial w_1} = \\frac{\\partial (w_1x_1)}{\\partial w_1} = x_1 $$\n",
    "\n",
    "### so\n",
    "$$ \\frac{\\partial J}{\\partial w_1} = \\frac{\\hat{y} - y}{\\hat{y}(1-\\hat{y})} \\hat{y}(1-\\hat{y}) w_2 (1 - a_1²) x_1 = (\\hat{y} - y) w_2 (1 - a_1²) x_1 $$\n"
   ]
  },
  {
   "cell_type": "code",
   "execution_count": 7,
   "metadata": {},
   "outputs": [],
   "source": [
    "def backward(x, params, outputs, y):\n",
    "    m = y.shape[0]\n",
    "    d_z2 = outputs[\"a3\"] - y\n",
    "    d_w2 = outputs[\"a2\"].T @ d_z2 / m\n",
    "    d_b2 = np.sum(d_z2, axis=0, keepdims=True) / m\n",
    "    d_a2 = d_z2 @ params[\"w2\"].T\n",
    "    d_z1 = d_a2 * (1 - np.tanh(outputs[\"a2\"])**2)\n",
    "    d_w1 = x.T @ d_z1 / m\n",
    "    d_b1 = np.sum(d_z1, axis=0, keepdims=True) / m\n",
    "    return {\n",
    "        \"d_w1\": d_w1,\n",
    "        \"d_b1\": d_b1,\n",
    "        \"d_w2\": d_w2,\n",
    "        \"d_b2\": d_b2\n",
    "    }"
   ]
  },
  {
   "cell_type": "code",
   "execution_count": 8,
   "metadata": {},
   "outputs": [],
   "source": [
    "def sgd(params, grads, eta):\n",
    "    \n",
    "    params[\"w1\"] = params[\"w1\"] - eta * grads[\"d_w1\"]\n",
    "    params[\"b1\"] = params[\"b1\"] - eta * grads[\"d_b1\"]\n",
    "    params[\"w2\"] = params[\"w2\"] - eta * grads[\"d_w2\"]\n",
    "    params[\"b2\"] = params[\"b2\"] - eta * grads[\"d_b2\"]\n",
    "    \n",
    "    return params"
   ]
  },
  {
   "cell_type": "markdown",
   "metadata": {},
   "source": [
    "## training steps"
   ]
  },
  {
   "cell_type": "code",
   "execution_count": 9,
   "metadata": {},
   "outputs": [],
   "source": [
    "def training_steps(x_train, y_train, x_test, y_test, nx, nh, ny, epochs, batch_size, eta):\n",
    "    params = init_params(nx, nh, ny)\n",
    "    loss_history = []\n",
    "    accuracy_history = []\n",
    "    \n",
    "    for epoch in range(epochs):\n",
    "        # random data\n",
    "        permutation = np.random.permutation(x_train.shape[0])\n",
    "        x_train = x_train[permutation]\n",
    "        y_train = y_train[permutation]\n",
    "        \n",
    "        for i in range(0, x_train.shape[0], batch_size):\n",
    "            # load batch\n",
    "            x_batch = x_train[i:i + batch_size]\n",
    "            y_batch = y_train[i:i + batch_size]\n",
    "            \n",
    "            # forward\n",
    "            yhat, outputs = forward(params, x_batch)\n",
    "\n",
    "            # compute loss/accuracy\n",
    "            loss, accuracy = loss_accuracy(yhat, y_batch)\n",
    "\n",
    "            # backward\n",
    "            grads = backward(x_batch, params, outputs, y_batch)\n",
    "\n",
    "            # sgd\n",
    "            sgd(params, grads, eta)\n",
    "        \n",
    "        yhat_test, _ = forward(params, x_test)\n",
    "        test_loss, test_acc = loss_accuracy(yhat_test, y_test)\n",
    "        loss_history.append(test_loss)\n",
    "        accuracy_history.append(test_acc)\n",
    "        \n",
    "        print(f\"epoch {epoch+1}/{epochs} ### loss: {test_loss:.4f}, ### accuracy: {test_acc:.4f}\")\n",
    "    \n",
    "    return params, loss_history, accuracy_history\n"
   ]
  },
  {
   "cell_type": "code",
   "execution_count": 10,
   "metadata": {},
   "outputs": [],
   "source": [
    "def plot_history(history, name):\n",
    "    plt.plot(history, label=name)\n",
    "    plt.xlabel(\"epoch\")\n",
    "    plt.ylabel(name)\n",
    "    plt.legend()"
   ]
  },
  {
   "cell_type": "code",
   "execution_count": 11,
   "metadata": {},
   "outputs": [],
   "source": [
    "(x_train, y_train), (x_test, y_test) = mnist.load_data()"
   ]
  },
  {
   "cell_type": "code",
   "execution_count": 12,
   "metadata": {},
   "outputs": [],
   "source": [
    "x_train = x_train.reshape(x_train.shape[0], -1) / 255.0\n",
    "x_test = x_test.reshape(x_test.shape[0], -1) / 255.0\n",
    "y_train = to_categorical(y_train, 10)\n",
    "y_test = to_categorical(y_test, 10)"
   ]
  },
  {
   "cell_type": "code",
   "execution_count": 13,
   "metadata": {},
   "outputs": [],
   "source": [
    "nx = x_train.shape[1]\n",
    "nh = 128\n",
    "ny = y_train.shape[1]\n",
    "epochs=50\n",
    "batch_size=128\n",
    "eta=0.1"
   ]
  },
  {
   "cell_type": "code",
   "execution_count": 14,
   "metadata": {},
   "outputs": [
    {
     "data": {
      "text/plain": [
       "784"
      ]
     },
     "execution_count": 14,
     "metadata": {},
     "output_type": "execute_result"
    }
   ],
   "source": [
    "nx"
   ]
  },
  {
   "cell_type": "code",
   "execution_count": 15,
   "metadata": {},
   "outputs": [
    {
     "data": {
      "text/plain": [
       "10"
      ]
     },
     "execution_count": 15,
     "metadata": {},
     "output_type": "execute_result"
    }
   ],
   "source": [
    "ny"
   ]
  },
  {
   "cell_type": "code",
   "execution_count": 16,
   "metadata": {},
   "outputs": [
    {
     "name": "stdout",
     "output_type": "stream",
     "text": [
      "epoch 1/50 ### loss: 0.3833, ### accuracy: 0.8875\n",
      "epoch 2/50 ### loss: 0.3235, ### accuracy: 0.9062\n",
      "epoch 3/50 ### loss: 0.2903, ### accuracy: 0.9134\n",
      "epoch 4/50 ### loss: 0.2686, ### accuracy: 0.9191\n",
      "epoch 5/50 ### loss: 0.2534, ### accuracy: 0.9247\n",
      "epoch 6/50 ### loss: 0.2402, ### accuracy: 0.9278\n",
      "epoch 7/50 ### loss: 0.2296, ### accuracy: 0.9322\n",
      "epoch 8/50 ### loss: 0.2213, ### accuracy: 0.9344\n",
      "epoch 9/50 ### loss: 0.2131, ### accuracy: 0.9368\n",
      "epoch 10/50 ### loss: 0.2077, ### accuracy: 0.9380\n",
      "epoch 11/50 ### loss: 0.2031, ### accuracy: 0.9395\n",
      "epoch 12/50 ### loss: 0.1974, ### accuracy: 0.9421\n",
      "epoch 13/50 ### loss: 0.1918, ### accuracy: 0.9432\n",
      "epoch 14/50 ### loss: 0.1882, ### accuracy: 0.9448\n",
      "epoch 15/50 ### loss: 0.1843, ### accuracy: 0.9445\n",
      "epoch 16/50 ### loss: 0.1818, ### accuracy: 0.9454\n",
      "epoch 17/50 ### loss: 0.1773, ### accuracy: 0.9472\n",
      "epoch 18/50 ### loss: 0.1741, ### accuracy: 0.9491\n",
      "epoch 19/50 ### loss: 0.1724, ### accuracy: 0.9495\n",
      "epoch 20/50 ### loss: 0.1690, ### accuracy: 0.9505\n",
      "epoch 21/50 ### loss: 0.1676, ### accuracy: 0.9500\n",
      "epoch 22/50 ### loss: 0.1668, ### accuracy: 0.9507\n",
      "epoch 23/50 ### loss: 0.1626, ### accuracy: 0.9508\n",
      "epoch 24/50 ### loss: 0.1621, ### accuracy: 0.9511\n",
      "epoch 25/50 ### loss: 0.1605, ### accuracy: 0.9527\n",
      "epoch 26/50 ### loss: 0.1572, ### accuracy: 0.9535\n",
      "epoch 27/50 ### loss: 0.1557, ### accuracy: 0.9536\n",
      "epoch 28/50 ### loss: 0.1556, ### accuracy: 0.9530\n",
      "epoch 29/50 ### loss: 0.1548, ### accuracy: 0.9544\n",
      "epoch 30/50 ### loss: 0.1536, ### accuracy: 0.9543\n",
      "epoch 31/50 ### loss: 0.1524, ### accuracy: 0.9550\n",
      "epoch 32/50 ### loss: 0.1498, ### accuracy: 0.9554\n",
      "epoch 33/50 ### loss: 0.1498, ### accuracy: 0.9564\n",
      "epoch 34/50 ### loss: 0.1480, ### accuracy: 0.9566\n",
      "epoch 35/50 ### loss: 0.1475, ### accuracy: 0.9564\n",
      "epoch 36/50 ### loss: 0.1468, ### accuracy: 0.9563\n",
      "epoch 37/50 ### loss: 0.1450, ### accuracy: 0.9574\n",
      "epoch 38/50 ### loss: 0.1464, ### accuracy: 0.9577\n",
      "epoch 39/50 ### loss: 0.1448, ### accuracy: 0.9576\n",
      "epoch 40/50 ### loss: 0.1431, ### accuracy: 0.9577\n",
      "epoch 41/50 ### loss: 0.1427, ### accuracy: 0.9593\n",
      "epoch 42/50 ### loss: 0.1438, ### accuracy: 0.9590\n",
      "epoch 43/50 ### loss: 0.1422, ### accuracy: 0.9580\n",
      "epoch 44/50 ### loss: 0.1435, ### accuracy: 0.9591\n",
      "epoch 45/50 ### loss: 0.1419, ### accuracy: 0.9586\n",
      "epoch 46/50 ### loss: 0.1410, ### accuracy: 0.9596\n",
      "epoch 47/50 ### loss: 0.1416, ### accuracy: 0.9596\n",
      "epoch 48/50 ### loss: 0.1408, ### accuracy: 0.9584\n",
      "epoch 49/50 ### loss: 0.1413, ### accuracy: 0.9601\n",
      "epoch 50/50 ### loss: 0.1383, ### accuracy: 0.9605\n"
     ]
    }
   ],
   "source": [
    "params, loss_history, accuracy_history = training_steps(x_train, y_train, x_test, y_test, nx, nh, ny, epochs, batch_size, eta)"
   ]
  },
  {
   "cell_type": "code",
   "execution_count": 17,
   "metadata": {},
   "outputs": [
    {
     "data": {
      "image/png": "[encoded data removed]",
      "text/plain": [
       "<Figure size 640x480 with 1 Axes>"
      ]
     },
     "metadata": {},
     "output_type": "display_data"
    }
   ],
   "source": [
    "plot_history(loss_history, 'loss')"
   ]
  },
  {
   "cell_type": "code",
   "execution_count": 18,
   "metadata": {},
   "outputs": [
    {
     "data": {
      "image/png": "[encoded data removed]",
      "text/plain": [
       "<Figure size 640x480 with 1 Axes>"
      ]
     },
     "metadata": {},
     "output_type": "display_data"
    }
   ],
   "source": [
    "plot_history(accuracy_history, 'accuracy')"
   ]
  },
  {
   "cell_type": "code",
   "execution_count": 19,
   "metadata": {},
   "outputs": [],
   "source": [
    "def hand_written_recognition(params, x_test, y_test, __range):\n",
    "    for i in range(__range):\n",
    "        image = x_test[i].reshape(28, 28)\n",
    "        yhat, _ = forward(params, x_test[i].reshape(1, -1))\n",
    "        predicted_label = np.argmax(yhat)\n",
    "        real_label = np.argmax(y_test[i])\n",
    "        \n",
    "        plt.imshow(image, cmap='gray')\n",
    "        plt.title(f\"predicted: {predicted_label}, real: {real_label}\")\n",
    "        plt.show()"
   ]
  },
  {
   "cell_type": "code",
   "execution_count": 20,
   "metadata": {},
   "outputs": [
    {
     "data": {
      "image/png": "[encoded data removed]",
      "text/plain": [
       "<Figure size 640x480 with 1 Axes>"
      ]
     },
     "metadata": {},
     "output_type": "display_data"
    },
    {
     "data": {
      "image/png": "[encoded data removed]",
      "text/plain": [
       "<Figure size 640x480 with 1 Axes>"
      ]
     },
     "metadata": {},
     "output_type": "display_data"
    }
   ],
   "source": [
    "hand_written_recognition(params, x_test, y_test, 2)"
   ]
  },
  {
   "cell_type": "code",
   "execution_count": 21,
   "metadata": {},
   "outputs": [],
   "source": [
    "import pandas as pd"
   ]
  },
  {
   "cell_type": "code",
   "execution_count": 22,
   "metadata": {},
   "outputs": [
    {
     "data": {
      "text/html": [
       "<div>\n",
       "<style scoped>\n",
       "    .dataframe tbody tr th:only-of-type {\n",
       "        vertical-align: middle;\n",
       "    }\n",
       "\n",
       "    .dataframe tbody tr th {\n",
       "        vertical-align: top;\n",
       "    }\n",
       "\n",
       "    .dataframe thead th {\n",
       "        text-align: right;\n",
       "    }\n",
       "</style>\n",
       "<table border=\"1\" class=\"dataframe\">\n",
       "  <thead>\n",
       "    <tr style=\"text-align: right;\">\n",
       "      <th></th>\n",
       "      <th>label</th>\n",
       "      <th>1x1</th>\n",
       "      <th>1x2</th>\n",
       "      <th>1x3</th>\n",
       "      <th>1x4</th>\n",
       "      <th>1x5</th>\n",
       "      <th>1x6</th>\n",
       "      <th>1x7</th>\n",
       "      <th>1x8</th>\n",
       "      <th>1x9</th>\n",
       "      <th>...</th>\n",
       "      <th>28x19</th>\n",
       "      <th>28x20</th>\n",
       "      <th>28x21</th>\n",
       "      <th>28x22</th>\n",
       "      <th>28x23</th>\n",
       "      <th>28x24</th>\n",
       "      <th>28x25</th>\n",
       "      <th>28x26</th>\n",
       "      <th>28x27</th>\n",
       "      <th>28x28</th>\n",
       "    </tr>\n",
       "  </thead>\n",
       "  <tbody>\n",
       "    <tr>\n",
       "      <th>0</th>\n",
       "      <td>7</td>\n",
       "      <td>0</td>\n",
       "      <td>0</td>\n",
       "      <td>0</td>\n",
       "      <td>0</td>\n",
       "      <td>0</td>\n",
       "      <td>0</td>\n",
       "      <td>0</td>\n",
       "      <td>0</td>\n",
       "      <td>0</td>\n",
       "      <td>...</td>\n",
       "      <td>0</td>\n",
       "      <td>0</td>\n",
       "      <td>0</td>\n",
       "      <td>0</td>\n",
       "      <td>0</td>\n",
       "      <td>0</td>\n",
       "      <td>0</td>\n",
       "      <td>0</td>\n",
       "      <td>0</td>\n",
       "      <td>0</td>\n",
       "    </tr>\n",
       "    <tr>\n",
       "      <th>1</th>\n",
       "      <td>2</td>\n",
       "      <td>0</td>\n",
       "      <td>0</td>\n",
       "      <td>0</td>\n",
       "      <td>0</td>\n",
       "      <td>0</td>\n",
       "      <td>0</td>\n",
       "      <td>0</td>\n",
       "      <td>0</td>\n",
       "      <td>0</td>\n",
       "      <td>...</td>\n",
       "      <td>0</td>\n",
       "      <td>0</td>\n",
       "      <td>0</td>\n",
       "      <td>0</td>\n",
       "      <td>0</td>\n",
       "      <td>0</td>\n",
       "      <td>0</td>\n",
       "      <td>0</td>\n",
       "      <td>0</td>\n",
       "      <td>0</td>\n",
       "    </tr>\n",
       "    <tr>\n",
       "      <th>2</th>\n",
       "      <td>1</td>\n",
       "      <td>0</td>\n",
       "      <td>0</td>\n",
       "      <td>0</td>\n",
       "      <td>0</td>\n",
       "      <td>0</td>\n",
       "      <td>0</td>\n",
       "      <td>0</td>\n",
       "      <td>0</td>\n",
       "      <td>0</td>\n",
       "      <td>...</td>\n",
       "      <td>0</td>\n",
       "      <td>0</td>\n",
       "      <td>0</td>\n",
       "      <td>0</td>\n",
       "      <td>0</td>\n",
       "      <td>0</td>\n",
       "      <td>0</td>\n",
       "      <td>0</td>\n",
       "      <td>0</td>\n",
       "      <td>0</td>\n",
       "    </tr>\n",
       "    <tr>\n",
       "      <th>3</th>\n",
       "      <td>0</td>\n",
       "      <td>0</td>\n",
       "      <td>0</td>\n",
       "      <td>0</td>\n",
       "      <td>0</td>\n",
       "      <td>0</td>\n",
       "      <td>0</td>\n",
       "      <td>0</td>\n",
       "      <td>0</td>\n",
       "      <td>0</td>\n",
       "      <td>...</td>\n",
       "      <td>0</td>\n",
       "      <td>0</td>\n",
       "      <td>0</td>\n",
       "      <td>0</td>\n",
       "      <td>0</td>\n",
       "      <td>0</td>\n",
       "      <td>0</td>\n",
       "      <td>0</td>\n",
       "      <td>0</td>\n",
       "      <td>0</td>\n",
       "    </tr>\n",
       "    <tr>\n",
       "      <th>4</th>\n",
       "      <td>4</td>\n",
       "      <td>0</td>\n",
       "      <td>0</td>\n",
       "      <td>0</td>\n",
       "      <td>0</td>\n",
       "      <td>0</td>\n",
       "      <td>0</td>\n",
       "      <td>0</td>\n",
       "      <td>0</td>\n",
       "      <td>0</td>\n",
       "      <td>...</td>\n",
       "      <td>0</td>\n",
       "      <td>0</td>\n",
       "      <td>0</td>\n",
       "      <td>0</td>\n",
       "      <td>0</td>\n",
       "      <td>0</td>\n",
       "      <td>0</td>\n",
       "      <td>0</td>\n",
       "      <td>0</td>\n",
       "      <td>0</td>\n",
       "    </tr>\n",
       "  </tbody>\n",
       "</table>\n",
       "<p>5 rows × 785 columns</p>\n",
       "</div>"
      ],
      "text/plain": [
       "   label  1x1  1x2  1x3  1x4  1x5  1x6  1x7  1x8  1x9  ...  28x19  28x20  \\\n",
       "0      7    0    0    0    0    0    0    0    0    0  ...      0      0   \n",
       "1      2    0    0    0    0    0    0    0    0    0  ...      0      0   \n",
       "2      1    0    0    0    0    0    0    0    0    0  ...      0      0   \n",
       "3      0    0    0    0    0    0    0    0    0    0  ...      0      0   \n",
       "4      4    0    0    0    0    0    0    0    0    0  ...      0      0   \n",
       "\n",
       "   28x21  28x22  28x23  28x24  28x25  28x26  28x27  28x28  \n",
       "0      0      0      0      0      0      0      0      0  \n",
       "1      0      0      0      0      0      0      0      0  \n",
       "2      0      0      0      0      0      0      0      0  \n",
       "3      0      0      0      0      0      0      0      0  \n",
       "4      0      0      0      0      0      0      0      0  \n",
       "\n",
       "[5 rows x 785 columns]"
      ]
     },
     "execution_count": 22,
     "metadata": {},
     "output_type": "execute_result"
    }
   ],
   "source": [
    "mnist = pd.read_csv('./mnist.csv')\n",
    "mnist.head()"
   ]
  },
  {
   "cell_type": "code",
   "execution_count": 23,
   "metadata": {},
   "outputs": [
    {
     "data": {
      "text/plain": [
       "(10000, 785)"
      ]
     },
     "execution_count": 23,
     "metadata": {},
     "output_type": "execute_result"
    }
   ],
   "source": [
    "mnist.shape"
   ]
  },
  {
   "cell_type": "code",
   "execution_count": 24,
   "metadata": {},
   "outputs": [
    {
     "data": {
      "text/html": [
       "<div>\n",
       "<style scoped>\n",
       "    .dataframe tbody tr th:only-of-type {\n",
       "        vertical-align: middle;\n",
       "    }\n",
       "\n",
       "    .dataframe tbody tr th {\n",
       "        vertical-align: top;\n",
       "    }\n",
       "\n",
       "    .dataframe thead th {\n",
       "        text-align: right;\n",
       "    }\n",
       "</style>\n",
       "<table border=\"1\" class=\"dataframe\">\n",
       "  <thead>\n",
       "    <tr style=\"text-align: right;\">\n",
       "      <th></th>\n",
       "      <th>label</th>\n",
       "      <th>1x1</th>\n",
       "      <th>1x2</th>\n",
       "      <th>1x3</th>\n",
       "      <th>1x4</th>\n",
       "      <th>1x5</th>\n",
       "      <th>1x6</th>\n",
       "      <th>1x7</th>\n",
       "      <th>1x8</th>\n",
       "      <th>1x9</th>\n",
       "      <th>...</th>\n",
       "      <th>28x19</th>\n",
       "      <th>28x20</th>\n",
       "      <th>28x21</th>\n",
       "      <th>28x22</th>\n",
       "      <th>28x23</th>\n",
       "      <th>28x24</th>\n",
       "      <th>28x25</th>\n",
       "      <th>28x26</th>\n",
       "      <th>28x27</th>\n",
       "      <th>28x28</th>\n",
       "    </tr>\n",
       "  </thead>\n",
       "  <tbody>\n",
       "    <tr>\n",
       "      <th>count</th>\n",
       "      <td>10000.000000</td>\n",
       "      <td>10000.0</td>\n",
       "      <td>10000.0</td>\n",
       "      <td>10000.0</td>\n",
       "      <td>10000.0</td>\n",
       "      <td>10000.0</td>\n",
       "      <td>10000.0</td>\n",
       "      <td>10000.0</td>\n",
       "      <td>10000.0</td>\n",
       "      <td>10000.0</td>\n",
       "      <td>...</td>\n",
       "      <td>10000.000000</td>\n",
       "      <td>10000.000000</td>\n",
       "      <td>10000.000000</td>\n",
       "      <td>10000.0000</td>\n",
       "      <td>10000.0</td>\n",
       "      <td>10000.0</td>\n",
       "      <td>10000.0</td>\n",
       "      <td>10000.0</td>\n",
       "      <td>10000.0</td>\n",
       "      <td>10000.0</td>\n",
       "    </tr>\n",
       "    <tr>\n",
       "      <th>mean</th>\n",
       "      <td>4.443400</td>\n",
       "      <td>0.0</td>\n",
       "      <td>0.0</td>\n",
       "      <td>0.0</td>\n",
       "      <td>0.0</td>\n",
       "      <td>0.0</td>\n",
       "      <td>0.0</td>\n",
       "      <td>0.0</td>\n",
       "      <td>0.0</td>\n",
       "      <td>0.0</td>\n",
       "      <td>...</td>\n",
       "      <td>0.179300</td>\n",
       "      <td>0.163600</td>\n",
       "      <td>0.052600</td>\n",
       "      <td>0.0006</td>\n",
       "      <td>0.0</td>\n",
       "      <td>0.0</td>\n",
       "      <td>0.0</td>\n",
       "      <td>0.0</td>\n",
       "      <td>0.0</td>\n",
       "      <td>0.0</td>\n",
       "    </tr>\n",
       "    <tr>\n",
       "      <th>std</th>\n",
       "      <td>2.895865</td>\n",
       "      <td>0.0</td>\n",
       "      <td>0.0</td>\n",
       "      <td>0.0</td>\n",
       "      <td>0.0</td>\n",
       "      <td>0.0</td>\n",
       "      <td>0.0</td>\n",
       "      <td>0.0</td>\n",
       "      <td>0.0</td>\n",
       "      <td>0.0</td>\n",
       "      <td>...</td>\n",
       "      <td>5.674149</td>\n",
       "      <td>5.736072</td>\n",
       "      <td>2.420004</td>\n",
       "      <td>0.0600</td>\n",
       "      <td>0.0</td>\n",
       "      <td>0.0</td>\n",
       "      <td>0.0</td>\n",
       "      <td>0.0</td>\n",
       "      <td>0.0</td>\n",
       "      <td>0.0</td>\n",
       "    </tr>\n",
       "    <tr>\n",
       "      <th>min</th>\n",
       "      <td>0.000000</td>\n",
       "      <td>0.0</td>\n",
       "      <td>0.0</td>\n",
       "      <td>0.0</td>\n",
       "      <td>0.0</td>\n",
       "      <td>0.0</td>\n",
       "      <td>0.0</td>\n",
       "      <td>0.0</td>\n",
       "      <td>0.0</td>\n",
       "      <td>0.0</td>\n",
       "      <td>...</td>\n",
       "      <td>0.000000</td>\n",
       "      <td>0.000000</td>\n",
       "      <td>0.000000</td>\n",
       "      <td>0.0000</td>\n",
       "      <td>0.0</td>\n",
       "      <td>0.0</td>\n",
       "      <td>0.0</td>\n",
       "      <td>0.0</td>\n",
       "      <td>0.0</td>\n",
       "      <td>0.0</td>\n",
       "    </tr>\n",
       "    <tr>\n",
       "      <th>25%</th>\n",
       "      <td>2.000000</td>\n",
       "      <td>0.0</td>\n",
       "      <td>0.0</td>\n",
       "      <td>0.0</td>\n",
       "      <td>0.0</td>\n",
       "      <td>0.0</td>\n",
       "      <td>0.0</td>\n",
       "      <td>0.0</td>\n",
       "      <td>0.0</td>\n",
       "      <td>0.0</td>\n",
       "      <td>...</td>\n",
       "      <td>0.000000</td>\n",
       "      <td>0.000000</td>\n",
       "      <td>0.000000</td>\n",
       "      <td>0.0000</td>\n",
       "      <td>0.0</td>\n",
       "      <td>0.0</td>\n",
       "      <td>0.0</td>\n",
       "      <td>0.0</td>\n",
       "      <td>0.0</td>\n",
       "      <td>0.0</td>\n",
       "    </tr>\n",
       "    <tr>\n",
       "      <th>50%</th>\n",
       "      <td>4.000000</td>\n",
       "      <td>0.0</td>\n",
       "      <td>0.0</td>\n",
       "      <td>0.0</td>\n",
       "      <td>0.0</td>\n",
       "      <td>0.0</td>\n",
       "      <td>0.0</td>\n",
       "      <td>0.0</td>\n",
       "      <td>0.0</td>\n",
       "      <td>0.0</td>\n",
       "      <td>...</td>\n",
       "      <td>0.000000</td>\n",
       "      <td>0.000000</td>\n",
       "      <td>0.000000</td>\n",
       "      <td>0.0000</td>\n",
       "      <td>0.0</td>\n",
       "      <td>0.0</td>\n",
       "      <td>0.0</td>\n",
       "      <td>0.0</td>\n",
       "      <td>0.0</td>\n",
       "      <td>0.0</td>\n",
       "    </tr>\n",
       "    <tr>\n",
       "      <th>75%</th>\n",
       "      <td>7.000000</td>\n",
       "      <td>0.0</td>\n",
       "      <td>0.0</td>\n",
       "      <td>0.0</td>\n",
       "      <td>0.0</td>\n",
       "      <td>0.0</td>\n",
       "      <td>0.0</td>\n",
       "      <td>0.0</td>\n",
       "      <td>0.0</td>\n",
       "      <td>0.0</td>\n",
       "      <td>...</td>\n",
       "      <td>0.000000</td>\n",
       "      <td>0.000000</td>\n",
       "      <td>0.000000</td>\n",
       "      <td>0.0000</td>\n",
       "      <td>0.0</td>\n",
       "      <td>0.0</td>\n",
       "      <td>0.0</td>\n",
       "      <td>0.0</td>\n",
       "      <td>0.0</td>\n",
       "      <td>0.0</td>\n",
       "    </tr>\n",
       "    <tr>\n",
       "      <th>max</th>\n",
       "      <td>9.000000</td>\n",
       "      <td>0.0</td>\n",
       "      <td>0.0</td>\n",
       "      <td>0.0</td>\n",
       "      <td>0.0</td>\n",
       "      <td>0.0</td>\n",
       "      <td>0.0</td>\n",
       "      <td>0.0</td>\n",
       "      <td>0.0</td>\n",
       "      <td>0.0</td>\n",
       "      <td>...</td>\n",
       "      <td>253.000000</td>\n",
       "      <td>253.000000</td>\n",
       "      <td>156.000000</td>\n",
       "      <td>6.0000</td>\n",
       "      <td>0.0</td>\n",
       "      <td>0.0</td>\n",
       "      <td>0.0</td>\n",
       "      <td>0.0</td>\n",
       "      <td>0.0</td>\n",
       "      <td>0.0</td>\n",
       "    </tr>\n",
       "  </tbody>\n",
       "</table>\n",
       "<p>8 rows × 785 columns</p>\n",
       "</div>"
      ],
      "text/plain": [
       "              label      1x1      1x2      1x3      1x4      1x5      1x6  \\\n",
       "count  10000.000000  10000.0  10000.0  10000.0  10000.0  10000.0  10000.0   \n",
       "mean       4.443400      0.0      0.0      0.0      0.0      0.0      0.0   \n",
       "std        2.895865      0.0      0.0      0.0      0.0      0.0      0.0   \n",
       "min        0.000000      0.0      0.0      0.0      0.0      0.0      0.0   \n",
       "25%        2.000000      0.0      0.0      0.0      0.0      0.0      0.0   \n",
       "50%        4.000000      0.0      0.0      0.0      0.0      0.0      0.0   \n",
       "75%        7.000000      0.0      0.0      0.0      0.0      0.0      0.0   \n",
       "max        9.000000      0.0      0.0      0.0      0.0      0.0      0.0   \n",
       "\n",
       "           1x7      1x8      1x9  ...         28x19         28x20  \\\n",
       "count  10000.0  10000.0  10000.0  ...  10000.000000  10000.000000   \n",
       "mean       0.0      0.0      0.0  ...      0.179300      0.163600   \n",
       "std        0.0      0.0      0.0  ...      5.674149      5.736072   \n",
       "min        0.0      0.0      0.0  ...      0.000000      0.000000   \n",
       "25%        0.0      0.0      0.0  ...      0.000000      0.000000   \n",
       "50%        0.0      0.0      0.0  ...      0.000000      0.000000   \n",
       "75%        0.0      0.0      0.0  ...      0.000000      0.000000   \n",
       "max        0.0      0.0      0.0  ...    253.000000    253.000000   \n",
       "\n",
       "              28x21       28x22    28x23    28x24    28x25    28x26    28x27  \\\n",
       "count  10000.000000  10000.0000  10000.0  10000.0  10000.0  10000.0  10000.0   \n",
       "mean       0.052600      0.0006      0.0      0.0      0.0      0.0      0.0   \n",
       "std        2.420004      0.0600      0.0      0.0      0.0      0.0      0.0   \n",
       "min        0.000000      0.0000      0.0      0.0      0.0      0.0      0.0   \n",
       "25%        0.000000      0.0000      0.0      0.0      0.0      0.0      0.0   \n",
       "50%        0.000000      0.0000      0.0      0.0      0.0      0.0      0.0   \n",
       "75%        0.000000      0.0000      0.0      0.0      0.0      0.0      0.0   \n",
       "max      156.000000      6.0000      0.0      0.0      0.0      0.0      0.0   \n",
       "\n",
       "         28x28  \n",
       "count  10000.0  \n",
       "mean       0.0  \n",
       "std        0.0  \n",
       "min        0.0  \n",
       "25%        0.0  \n",
       "50%        0.0  \n",
       "75%        0.0  \n",
       "max        0.0  \n",
       "\n",
       "[8 rows x 785 columns]"
      ]
     },
     "execution_count": 24,
     "metadata": {},
     "output_type": "execute_result"
    }
   ],
   "source": [
    "mnist.describe()"
   ]
  },
  {
   "cell_type": "code",
   "execution_count": 25,
   "metadata": {},
   "outputs": [
    {
     "data": {
      "text/plain": [
       "label    0\n",
       "1x1      0\n",
       "1x2      0\n",
       "1x3      0\n",
       "1x4      0\n",
       "        ..\n",
       "28x24    0\n",
       "28x25    0\n",
       "28x26    0\n",
       "28x27    0\n",
       "28x28    0\n",
       "Length: 785, dtype: int64"
      ]
     },
     "execution_count": 25,
     "metadata": {},
     "output_type": "execute_result"
    }
   ],
   "source": [
    "mnist.isna().sum()"
   ]
  }
 ],
 "metadata": {
  "kernelspec": {
   "display_name": "base",
   "language": "python",
   "name": "python3"
  },
  "language_info": {
   "codemirror_mode": {
    "name": "ipython",
    "version": 3
   },
   "file_extension": ".py",
   "mimetype": "text/x-python",
   "name": "python",
   "nbconvert_exporter": "python",
   "pygments_lexer": "ipython3",
   "version": "3.12.4"
  }
 },
 "nbformat": 4,
 "nbformat_minor": 2
}
