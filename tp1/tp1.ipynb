{
 "cells": [
  {
   "cell_type": "code",
   "execution_count": 1,
   "metadata": {},
   "outputs": [],
   "source": [
    "import numpy as np"
   ]
  },
  {
   "cell_type": "code",
   "execution_count": 2,
   "metadata": {},
   "outputs": [],
   "source": [
    "np.random.seed(42)"
   ]
  },
  {
   "cell_type": "code",
   "execution_count": 3,
   "metadata": {},
   "outputs": [],
   "source": [
    "\"\"\"\n",
    "ny: nbr of neurons in each layer\n",
    "\n",
    "w1, b1 for input layer\n",
    "w2, b2 for hidden layer\n",
    "\"\"\"\n",
    "\n",
    "def init_params(nx, nh, ny):\n",
    "    w1 = np.random.normal(0, 0.3, size=(nh, nx))\n",
    "    w2 = np.random.normal(0, 0.3, size=(ny, nh))\n",
    "    b1 = np.zeros((nh, 1))\n",
    "    b2 = np.zeros((ny, 1))\n",
    "\n",
    "    return {\n",
    "        'w1': w1, 'w2': w2, \n",
    "        'b1': b1, 'b2': b2, \n",
    "    }"
   ]
  },
  {
   "cell_type": "code",
   "execution_count": 4,
   "metadata": {},
   "outputs": [],
   "source": [
    "init_parameters = init_params(3, 3, 2)"
   ]
  },
  {
   "cell_type": "code",
   "execution_count": 5,
   "metadata": {},
   "outputs": [
    {
     "data": {
      "text/plain": [
       "{'w1': array([[ 0.14901425, -0.04147929,  0.19430656],\n",
       "        [ 0.45690896, -0.07024601, -0.07024109],\n",
       "        [ 0.47376384,  0.23023042, -0.14084232]]),\n",
       " 'w2': array([[ 0.16276801, -0.13902531, -0.13971893],\n",
       "        [ 0.07258868, -0.57398407, -0.51747535]]),\n",
       " 'b1': array([[0.],\n",
       "        [0.],\n",
       "        [0.]]),\n",
       " 'b2': array([[0.],\n",
       "        [0.]])}"
      ]
     },
     "execution_count": 5,
     "metadata": {},
     "output_type": "execute_result"
    }
   ],
   "source": [
    "init_parameters"
   ]
  },
  {
   "cell_type": "code",
   "execution_count": 6,
   "metadata": {},
   "outputs": [],
   "source": [
    "def softmax(value):\n",
    "    return np.exp(value - np.max(value)) / np.sum(score, axis=0)\n",
    "\n",
    "def forward(params, x):\n",
    "    w1, w2, b1, b2 = params['w1'], params['w1'], params['b1'], params['b2']\n",
    "\n",
    "    a1 = x\n",
    "    z1 = np.matmul(w1, a1.T) + b1\n",
    "    a2 = np.tanh(z1)\n",
    "    z2 = np.matmul(w2, a2) + b2\n",
    "    a3 = softmax(z2)\n",
    "    int_values = {\n",
    "        'z1': z1, 'z2': z2,\n",
    "        'a3': a3, 'a2': a2,\n",
    "    }\n",
    "\n",
    "    return a3, int_values"
   ]
  },
  {
   "cell_type": "code",
   "execution_count": 8,
   "metadata": {},
   "outputs": [],
   "source": [
    "def loss_accuracy(y_pred,y_true):\n",
    "    epsilon = 1e-10\n",
    "    m = y_true.shape[0]\n",
    "    \n",
    "    loss = -np.sum(y_true * np.log(y_pred + epsilon))     \n",
    "    loss = loss / m\n",
    "    \n",
    "    accuracy = np.mean(np.argmax(y_pred, axis=0) == np.argmax(y_true, axis=0))\n",
    "    return loss,accuracy    "
   ]
  },
  {
   "cell_type": "code",
   "execution_count": 17,
   "metadata": {},
   "outputs": [
    {
     "name": "stdout",
     "output_type": "stream",
     "text": [
      "loss:  7.675283643263486\n",
      "accuracy:  1.0\n"
     ]
    }
   ],
   "source": [
    "y_true = np.array([[1, 0.],\n",
    "                   [0 , 1],\n",
    "                   [0., 0.]])\n",
    "\n",
    "y_pred = np.array([[0.8, 0.2],\n",
    "                   [0.1, 0.7],\n",
    "                   [0.4, 0.3]])\n",
    "\n",
    "loss,accuracy = loss_accuracy(y_true, y_pred)\n",
    "\n",
    "print(\"loss: \", loss)\n",
    "print(\"accuracy: \", accuracy)"
   ]
  }
 ],
 "metadata": {
  "kernelspec": {
   "display_name": "base",
   "language": "python",
   "name": "python3"
  },
  "language_info": {
   "codemirror_mode": {
    "name": "ipython",
    "version": 3
   },
   "file_extension": ".py",
   "mimetype": "text/x-python",
   "name": "python",
   "nbconvert_exporter": "python",
   "pygments_lexer": "ipython3",
   "version": "3.12.4"
  }
 },
 "nbformat": 4,
 "nbformat_minor": 2
}
